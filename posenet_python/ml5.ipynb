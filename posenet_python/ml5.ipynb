{
 "cells": [
  {
   "cell_type": "code",
   "execution_count": 1,
   "id": "b0003ded",
   "metadata": {},
   "outputs": [],
   "source": [
    "import cv2\n",
    "#유튜브 영상 받기 위한\n",
    "import pafy\n",
    "url = \"https://www.youtube.com/watch?v=4EKo44DUvjg\"\n",
    "video = pafy.new(url)\n",
    "best = video.getbest(preftype=\"mp4\")"
   ]
  },
  {
   "cell_type": "code",
   "execution_count": 2,
   "id": "574f4669",
   "metadata": {},
   "outputs": [
    {
     "name": "stdout",
     "output_type": "stream",
     "text": [
      "WARNING:tensorflow:From C:\\Users\\COM\\anaconda3\\lib\\site-packages\\tensorflow\\python\\compat\\v2_compat.py:96: disable_resource_variables (from tensorflow.python.ops.variable_scope) is deprecated and will be removed in a future version.\n",
      "Instructions for updating:\n",
      "non-resource variables are not supported in the long term\n"
     ]
    }
   ],
   "source": [
    "#ml5 사전설정\n",
    "import tensorflow.compat.v1 as tf\n",
    "tf.disable_v2_behavior()\n",
    "import time\n",
    "import argparse #사용 안함\n",
    "import posenet\n",
    "import easydict\n",
    "args = easydict.EasyDict({\n",
    "    \"model\":101,\n",
    "    \"cam_id\":\"test_video.mp4\",\n",
    "    \"cam_width\":10,\n",
    "    \"cam_height\":10,\n",
    "    \"scale_factor\":0.7125,\n",
    "    \"file\":None\n",
    "})"
   ]
  },
  {
   "cell_type": "code",
   "execution_count": 3,
   "id": "2f4105c5",
   "metadata": {},
   "outputs": [],
   "source": [
    "def posenet_search():\n",
    "    with tf.Session() as sess:\n",
    "        model_cfg, model_outputs = posenet.load_model(args.model, sess)\n",
    "        output_stride = model_cfg['output_stride']\n",
    "\n",
    "        if args.file is not None:\n",
    "            cap = cv2.VideoCapture(args.file)\n",
    "        else:\n",
    "            cap = cv2.VideoCapture(args.cam_id)\n",
    "        cap.set(3, args.cam_width)\n",
    "        cap.set(4, args.cam_height)\n",
    "\n",
    "        start = time.time()\n",
    "        frame_count = 0\n",
    "        while True:\n",
    "            input_image, display_image, output_scale = posenet.read_cap(\n",
    "                cap, scale_factor=args.scale_factor, output_stride=output_stride)\n",
    "\n",
    "            heatmaps_result, offsets_result, displacement_fwd_result, displacement_bwd_result = sess.run(\n",
    "                model_outputs,\n",
    "                feed_dict={'image:0': input_image}\n",
    "            )\n",
    "\n",
    "            pose_scores, keypoint_scores, keypoint_coords = posenet.decode_multi.decode_multiple_poses(\n",
    "                heatmaps_result.squeeze(axis=0),\n",
    "                offsets_result.squeeze(axis=0),\n",
    "                displacement_fwd_result.squeeze(axis=0),\n",
    "                displacement_bwd_result.squeeze(axis=0),\n",
    "                output_stride=output_stride,\n",
    "                max_pose_detections=10,\n",
    "                min_pose_score=0.15)\n",
    "\n",
    "            keypoint_coords *= output_scale\n",
    "\n",
    "            # TODO this isn't particularly fast, use GL for drawing and display someday...\n",
    "            overlay_image,cv_key_points = posenet.draw_skel_and_kp(\n",
    "                display_image, pose_scores, keypoint_scores, keypoint_coords,\n",
    "                min_pose_score=0.15, min_part_score=0.1)\n",
    "\n",
    "            cv2.imshow('posenet', overlay_image)\n",
    "            frame_count += 1\n",
    "            if cv2.waitKey(1) & 0xFF == ord('q'):\n",
    "                cap.release()\n",
    "                cv2.destroyAllWindows()\n",
    "                break\n",
    "\n",
    "        print('Average FPS: ', frame_count / (time.time() - start))"
   ]
  },
  {
   "cell_type": "code",
   "execution_count": 4,
   "id": "52245c50",
   "metadata": {},
   "outputs": [],
   "source": [
    "#openpose coco 사전설정\n",
    "BODY_PARTS = {0: \"Nose\", 1: \"Neck\", 2: \"RShoulder\", 3: \"RElbow\", 4: \"RWrist\",\n",
    "                   5: \"LShoulder\", 6: \"LElbow\", 7: \"LWrist\", 8: \"RHip\", 9: \"RKnee\",\n",
    "                   10: \"RAnkle\", 11: \"LHip\", 12: \"LKnee\", 13: \"LAnkle\", 14: \"REye\",\n",
    "                   15: \"LEye\", 16: \"REar\", 17: \"LEar\", 18: \"Background\"}\n",
    "\n",
    "POSE_PAIRS = [[0, 1], [0, 14], [0, 15], [1, 2], [1, 5], [1, 8], [1, 11], [2, 3], [3, 4],\n",
    "                   [5, 6], [6, 7], [8, 9], [9, 10], [12, 13], [11, 12], [14, 16], [15, 17]]\n",
    "proto_file = \"../openpose-master/models/pose/coco/pose_deploy_linevec.prototxt\"\n",
    "weights_file = \"../openpose-master/models/pose/coco/pose_iter_440000.caffemodel\"\n",
    "net = cv2.dnn.readNetFromCaffe(proto_file, weights_file)\n",
    "image_height = 368\n",
    "image_width = 368"
   ]
  },
  {
   "cell_type": "code",
   "execution_count": 5,
   "id": "e0761790",
   "metadata": {},
   "outputs": [],
   "source": [
    "def openpose():\n",
    "    if args.file is not None:\n",
    "        cap = cv2.VideoCapture(args.file)\n",
    "    else:\n",
    "        cap = cv2.VideoCapture(args.cam_id)\n",
    "    cap.set(3, args.cam_width)\n",
    "    cap.set(4, args.cam_height)\n",
    "    threshold=0.2\n",
    "    start = time.time()\n",
    "    frame_count = 0\n",
    "    \n",
    "    while True:\n",
    "        res, frame = cap.read()\n",
    "        input_blob = cv2.dnn.blobFromImage(frame, 1.0 / 255, (image_width, image_height), (0, 0, 0), swapRB=False, crop=False)\n",
    "        points = []\n",
    "        net.setInput(input_blob)\n",
    "\n",
    "        # 결과 받아오기\n",
    "        out = net.forward()\n",
    "        out_height = out.shape[2]\n",
    "        out_width = out.shape[3]\n",
    "\n",
    "        # 원본 이미지의 높이, 너비를 받아오기\n",
    "        frame_height, frame_width = frame.shape[:2]\n",
    "\n",
    "        for i in range(len(BODY_PARTS)):\n",
    "\n",
    "            # 신체 부위의 confidence map\n",
    "            prob_map = out[0, i, :, :]\n",
    "\n",
    "            # 최소값, 최대값, 최소값 위치, 최대값 위치\n",
    "            min_val, prob, min_loc, point = cv2.minMaxLoc(prob_map)\n",
    "\n",
    "            # 원본 이미지에 맞게 포인트 위치 조정\n",
    "            x = (frame_width * point[0]) / out_width\n",
    "            x = int(x)\n",
    "            y = (frame_height * point[1]) / out_height\n",
    "            y = int(y)\n",
    "\n",
    "            if prob > threshold:  # [pointed]\n",
    "                cv2.circle(frame, (x, y), 5, (0, 255, 255), thickness=-1, lineType=cv2.FILLED)\n",
    "                cv2.putText(frame, str(i), (x, y), cv2.FONT_HERSHEY_SIMPLEX, 0.6, (0, 0, 255), 1, lineType=cv2.LINE_AA)\n",
    "\n",
    "                points.append((x, y))\n",
    "            else :\n",
    "                points.append(None)\n",
    "        \n",
    "\n",
    "        for pair in POSE_PAIRS:\n",
    "            part_a = pair[0]  # 0 (Head)\n",
    "            part_b = pair[1]  # 1 (Neck)\n",
    "            if points[part_a] and points[part_b]:\n",
    "                cv2.line(frame, points[part_a], points[part_b], (0, 255, 0), 3)\n",
    "\n",
    "        cv2.imshow('posenet', frame)\n",
    "        frame_count += 1\n",
    "        if cv2.waitKey(1) & 0xFF == ord('q'):\n",
    "            cap.release()\n",
    "            cv2.destroyAllWindows()\n",
    "            break\n",
    "\n",
    "    print('Average FPS: ', frame_count / (time.time() - start))"
   ]
  },
  {
   "cell_type": "code",
   "execution_count": null,
   "id": "31b87520",
   "metadata": {},
   "outputs": [],
   "source": []
  },
  {
   "cell_type": "code",
   "execution_count": 14,
   "id": "adcc79fe",
   "metadata": {},
   "outputs": [
    {
     "name": "stdout",
     "output_type": "stream",
     "text": [
      "Average FPS:  0.7649156782907999\n"
     ]
    }
   ],
   "source": [
    "if __name__ == \"__main__\":\n",
    "    openpose()"
   ]
  },
  {
   "cell_type": "code",
   "execution_count": 4,
   "id": "9eec457c",
   "metadata": {},
   "outputs": [
    {
     "name": "stderr",
     "output_type": "stream",
     "text": [
      "C:\\Users\\COM\\DLP\\posenet_python\\posenet\\converter\\config.py:9: YAMLLoadWarning: calling yaml.load() without Loader=... is deprecated, as the default Loader is unsafe. Please read https://msg.pyyaml.org/load for full details.\n",
      "  cfg = yaml.load(cfg_f)\n"
     ]
    },
    {
     "name": "stdout",
     "output_type": "stream",
     "text": [
      "Average FPS:  18.906395273369398\n"
     ]
    }
   ],
   "source": [
    "if __name__ == \"__main__\":\n",
    "    posenet_search()"
   ]
  },
  {
   "cell_type": "code",
   "execution_count": 34,
   "id": "a959f6ec",
   "metadata": {},
   "outputs": [
    {
     "ename": "TypeError",
     "evalue": "'cv2.VideoCapture' object is not subscriptable",
     "output_type": "error",
     "traceback": [
      "\u001b[1;31m---------------------------------------------------------------------------\u001b[0m",
      "\u001b[1;31mTypeError\u001b[0m                                 Traceback (most recent call last)",
      "\u001b[1;32m<ipython-input-34-f6644f75da4a>\u001b[0m in \u001b[0;36m<module>\u001b[1;34m\u001b[0m\n\u001b[1;32m----> 1\u001b[1;33m \u001b[0mcap\u001b[0m\u001b[1;33m[\u001b[0m\u001b[1;36m3\u001b[0m\u001b[1;33m]\u001b[0m\u001b[1;33m\u001b[0m\u001b[1;33m\u001b[0m\u001b[0m\n\u001b[0m",
      "\u001b[1;31mTypeError\u001b[0m: 'cv2.VideoCapture' object is not subscriptable"
     ]
    }
   ],
   "source": []
  },
  {
   "cell_type": "code",
   "execution_count": null,
   "id": "7c4764da",
   "metadata": {},
   "outputs": [],
   "source": []
  },
  {
   "cell_type": "code",
   "execution_count": null,
   "id": "26c9a155",
   "metadata": {},
   "outputs": [],
   "source": []
  }
 ],
 "metadata": {
  "kernelspec": {
   "display_name": "Python 3",
   "language": "python",
   "name": "python3"
  },
  "language_info": {
   "codemirror_mode": {
    "name": "ipython",
    "version": 3
   },
   "file_extension": ".py",
   "mimetype": "text/x-python",
   "name": "python",
   "nbconvert_exporter": "python",
   "pygments_lexer": "ipython3",
   "version": "3.8.8"
  }
 },
 "nbformat": 4,
 "nbformat_minor": 5
}
